{
 "cells": [
  {
   "cell_type": "markdown",
   "metadata": {},
   "source": [
    "### TESTE PYTHON ###\n",
    "\n",
    "1. Para responder as perguntas utilize celulas entre uma e outra pergunta.\n",
    "\n",
    "2. Pra responder as perguntas utilizar o dataset __[Electoral Donations in Brazil](https://www.kaggle.com/felipeleiteantunes/electoral-donations-brazil2014)__ do Keggle\n",
    "    \n",
    "3. O download tem um arquivo zip com vários arquivos, porém vamos utilizar somente o arquivo: receitas_candidatos_2014_brasil_english.csv\n",
    "\n",
    "\n",
    "#### Obs.: No código considere que o arquivo está no mesmo diretório onde irá executar o seu código python.\n"
   ]
  },
  {
   "cell_type": "markdown",
   "metadata": {},
   "source": [
    "### 1. Imprima seu nome completo utilizando Python"
   ]
  },
  {
   "cell_type": "code",
   "execution_count": null,
   "metadata": {
    "collapsed": true
   },
   "outputs": [],
   "source": [
    "# Desenvolva a Resposta Aqui\n",
    "\n",
    "print(\"Rodrigo Ruiz Fadel\")"
   ]
  },
  {
   "cell_type": "markdown",
   "metadata": {},
   "source": [
    "### 2. Criação de um novo arquivo processado\n",
    "\n",
    "1. Formato do Arquivo: \"parquet\"\n",
    "2. Nome \"doacoes_por_partido.parquet\"\n",
    "3. Colunas:\n",
    "    - Partido\n",
    "    - Estado\n",
    "    - ValorDoado - Soma de valor das doações agrupando partido e estado\n",
    "    - ValorDoadoPorEstado - Soma de todas as doações agrupando somente o estado\n",
    "    - Percentual - Razão entre o Valor doado para cada partido pelo valor doado Total do estado\n",
    "\n",
    "\n",
    "\n",
    "#### Com base nas informações acima construir um codigo Python que processe os dados do arquivo \"receitas_candidatos_2014_brasil_english.csv\" e gere um novo arquivo somente com as colunas desejadas."
   ]
  },
  {
   "cell_type": "code",
   "execution_count": null,
   "metadata": {},
   "outputs": [],
   "source": [
    "# Desenvolva a Resposta Aqui\n",
    "import pandas as pd\n",
    "\n",
    "rc = pd.read_csv(\"receitas_candidatos_2014_brasil_english.csv\")\n",
    "\n",
    "rc.head(10)\n",
    "\n",
    "dpp = rc.filter([\"cat_party\",\"cat_election_state\",\"num_donation_ammount\"], axis=1)\n",
    "\n",
    "dpp = dpp.groupby([\"cat_party\", \"cat_election_state\"], as_index=False)[\"num_donation_ammount\"].sum()\n",
    "\n",
    "#cat_party = Partido / cat_election_state = Estado / num_donation_ammount = ValorDoado\n",
    "dpp.columns = [\"Partido\", \"Estado\", \"ValorDoado\"]\n",
    "\n",
    "dpp[\"ValorDoadoPorEstado\"] = dpp.groupby([\"Estado\"], as_index=False)[\"ValorDoado\"].transform(\"sum\")\n",
    "\n",
    "dpp[\"Percentual\"] = (dpp[\"ValorDoado\"] / dpp[\"ValorDoadoPorEstado\"])*100\n",
    "\n",
    "    \n",
    "dpp.to_parquet('doacoes_por_partido.parquet',\n",
    "               compression='None')"
   ]
  },
  {
   "cell_type": "markdown",
   "metadata": {},
   "source": [
    "### 3. Ler arquivo e imprimir informações na tela\n",
    "\n",
    "#### Com base no arquivo gerado no item anterior \"doacoes_por_partido.parquet\" criar dois codigos em Python que respondam as seguintes perguntas?\n",
    "\n",
    "3.1 - Imprimir uma lista utilizando Python \n",
    "    - Criar uma lista com Estado, Partido, Percentual de doação\n",
    "    - Filtrar somente os partidos com maiores doações em cada estado\n",
    "    - Ordenar a lista pelo percentual de doação decrescente.\n",
    "\n",
    "3.2 - Imprimir uma lista utilizando Python \n",
    "    - Imprimir todas as colunas do arquivo\n",
    "    - Filtrar pelos top 20 maiores valores na coluna ValorDoado\n",
    "        \n",
    " "
   ]
  },
  {
   "cell_type": "code",
   "execution_count": null,
   "metadata": {},
   "outputs": [],
   "source": [
    "# Desenvolva a Resposta do item 3.1 Aqui\n",
    "import pandas as pd\n",
    "\n",
    "dpp_list = dpp[[\"Estado\", \"Partido\", \"Percentual\"]].to_dict('list')\n",
    "dpp_list\n",
    "\n",
    "\n",
    "for Partido, Percentual in dpp_list.items():\n",
    "    dpp_list[Partido] = max(Percentual)\n",
    "\n",
    "print(dpp_list)"
   ]
  },
  {
   "cell_type": "code",
   "execution_count": null,
   "metadata": {},
   "outputs": [],
   "source": [
    "# Desenvolva a Resposta do item 3.2 Aqui\n",
    "column_list = dpp.columns.tolist()\n",
    "column_list\n",
    "\n",
    "dpp_top_20 = dpp.nlargest(20,[\"ValorDoado\"])\n",
    "dpp_top_20"
   ]
  },
  {
   "cell_type": "markdown",
   "metadata": {},
   "source": [
    "### 4. Lógica de programação \n",
    "\n",
    "1. Desenvolva utilizando **estruturas de repetição**, uma função que receba um vetor e um inteiro por parâmetro, e realize um shift no vetor do tamanho do número inteiro recebido.\n",
    "        \n",
    "- O tamanho do shift deverá aceitar números negativos também. O sinal do tamanho servirá para definir a direção do shift.\n",
    "    - Números positivos indicam o shift da direita para a esquerda.\n",
    "    - Números negativos indicam o shift da esquerda para a direita.\n",
    "    \n",
    "    \n",
    "- **Não serão aceitas respostas do tipo:**\n",
    "    - \"return vetor[-tamanho:] + vetor[:-tamanho]\""
   ]
  },
  {
   "cell_type": "code",
   "execution_count": null,
   "metadata": {
    "collapsed": true
   },
   "outputs": [],
   "source": [
    "# Desenvolva a Resposta do item 4 aqui\n",
    "def shift(vetor, tamanho): \n",
    "    output = [] \n",
    "    \n",
    "    if tamanho > 0:\n",
    "        for item in range(len(vetor) - tamanho, len(vetor)): \n",
    "            output.append(vetor[item]) \n",
    "          \n",
    "        for item in range(0, len(vetor) - tamanho):  \n",
    "            output.append(vetor[item]) \n",
    "    \n",
    "    elif tamanho < 0:\n",
    "        for item in range(- tamanho, len(vetor)): \n",
    "            output.append(vetor[item]) \n",
    "            \n",
    "        for item in range(0, - tamanho):  \n",
    "            output.append(vetor[item]) \n",
    "          \n",
    "    return output "
   ]
  },
  {
   "cell_type": "markdown",
   "metadata": {},
   "source": [
    "#### Execute os campos a baixo para validar a função criada."
   ]
  },
  {
   "cell_type": "markdown",
   "metadata": {},
   "source": [
    "##### Tamanho 1 - Resultado esperado [9,0,1,2,3,4,5,6,7,8]"
   ]
  },
  {
   "cell_type": "code",
   "execution_count": null,
   "metadata": {},
   "outputs": [],
   "source": [
    "vetor = [0,1,2,3,4,5,6,7,8,9]\n",
    "ret = shift(vetor, 1)\n",
    "print(ret)"
   ]
  },
  {
   "cell_type": "markdown",
   "metadata": {},
   "source": [
    "##### Tamanho 2 - Resultado esperado: [8,9,0,1,2,3,4,5,6,7]:"
   ]
  },
  {
   "cell_type": "code",
   "execution_count": null,
   "metadata": {},
   "outputs": [],
   "source": [
    "vetor = [0,1,2,3,4,5,6,7,8,9]\n",
    "ret = shift(vetor, 2)\n",
    "print(ret)"
   ]
  },
  {
   "cell_type": "markdown",
   "metadata": {},
   "source": [
    "##### Tamanho -1 - Resultado esperado [1,2,3,4,5,6,7,8,9,0]"
   ]
  },
  {
   "cell_type": "code",
   "execution_count": null,
   "metadata": {},
   "outputs": [],
   "source": [
    "vetor = [0,1,2,3,4,5,6,7,8,9]\n",
    "ret = shift(vetor, -1)\n",
    "print(ret)"
   ]
  },
  {
   "cell_type": "markdown",
   "metadata": {},
   "source": [
    "##### Tamanho -2 - Resultado esperado [2,3,4,5,6,7,8,9,0,1]"
   ]
  },
  {
   "cell_type": "code",
   "execution_count": null,
   "metadata": {},
   "outputs": [],
   "source": [
    "vetor = [0,1,2,3,4,5,6,7,8,9]\n",
    "ret = shift(vetor, -2)\n",
    "print(ret)"
   ]
  },
  {
   "cell_type": "markdown",
   "metadata": {},
   "source": [
    "### 5. Web Scraping"
   ]
  },
  {
   "cell_type": "markdown",
   "metadata": {},
   "source": [
    "- 5.1 Desenvolva um algorítmo capaz de retornar os valores do mês atual, acumulado no ano e acumulado nos últimos 12 meses para os seguintes indicadores econômicos:\n",
    "    - Selic\n",
    "    - CDI\n",
    "    - Ibovespa\n",
    "    - Dólar Comercial (mercado)\n",
    "    - IPCA\n",
    "    - IGPM\n",
    "- Os dados devem ser retirados do site __[Valor Econômico](https://www.valor.com.br/valor-data/tabela/5810/evolucao-das-aplicacoes-financeiras)__"
   ]
  },
  {
   "cell_type": "code",
   "execution_count": null,
   "metadata": {
    "collapsed": true
   },
   "outputs": [],
   "source": [
    "# Desenvolva a Resposta do item 5.1 Aqui\n",
    "#TENTATIVA\n",
    "import urllib2\n",
    "from bs4 import BeautifulSoup\n",
    "\n",
    "quote_page = 'https://valor.globo.com/valor-data/aplicacoes/'\n",
    "\n",
    "page = urllib2.urlopen(quote_page)\n",
    "\n",
    "soup = BeautifulSoup(page, ‘html.parser’)"
   ]
  },
  {
   "cell_type": "markdown",
   "metadata": {},
   "source": [
    "- 5.2 Desenvolva um algorítmo capaz de retornar os valores das maiores altas e as maiores baixas do dia na bolsa de valores de São Paulo. Dados a serem retornados:\n",
    "    - Nome do papel (ex: PETR4)\n",
    "    - Ultimo valor\n",
    "    - Variação\n",
    "- Os dados podem ser retirados dos sites \n",
    "    - __[O Globo](https://oglobo.globo.com/economia/indicadores/)__\n",
    "    - __[Infomoney](https://www.infomoney.com.br/)__\n",
    "    - __[ADVFN](https://br.advfn.com/)__"
   ]
  },
  {
   "cell_type": "code",
   "execution_count": null,
   "metadata": {
    "collapsed": true
   },
   "outputs": [],
   "source": [
    "# Desenvolva a Resposta do item 5.2 Aqui\n"
   ]
  },
  {
   "cell_type": "markdown",
   "metadata": {},
   "source": [
    "### TESTE PYTHON + SQL ###\n",
    "\n",
    "1. Utilize um banco de dados(SQL) de sua preferencia.\n",
    "2. Se seu banco de dados tiver limite de espaço, adapte o dataset do python para que possa funcionar. Vamos analisar o código.\n",
    "3. **Não esqueça de retirar os dados de acesso ao seu banco de dados LOGIN e SENHA ao enviar a resposta**"
   ]
  },
  {
   "cell_type": "markdown",
   "metadata": {},
   "source": [
    "### 6. Gravar arquivos em uma tabela de banco de dados\n",
    "\n",
    "#### A partir do arquivo receitas_candidatos_2014_brasil_english.csv executar um codigo em python que grave os dados do arquivo em uma tabela do banco de dados\n",
    "\n",
    "Considere o seguinte cenario:\n",
    "\n",
    "1. Estamos criando uma rotina para inserir registros do arquivo no banco de dados.\n",
    "2. Ao executar a primeira vez o codigo, se a tabela não existir ela devera ser criada.\n",
    "    - Ao Criar a tabela ou inserir dados, converter os registros de data/hora e númericos para o tipo correspondente no banco de dados\n",
    "3. O nome da tabela deve ser TABELA_DOACOES\n",
    "4. O Arquivo não tem uma chave unica, então vamos criar uma com o nome di_doacao, para considerar um registro unico, considere 3 colunas:\n",
    "    - dat_donation_date\n",
    "    - id_donator_cpf_cnpj\n",
    "    - id_candidate_cpf\n",
    "    - Quando uma doação tiver a mesma chave(campos acima) vamos considerar o valor mais alto de doacao para inserir na base de dados.\n",
    "5. Em uma nova carga devemos analisar se um registro com a mesma chave já existe na tabela:\n",
    "    - Caso não exista, vamos inserir o registro\n",
    "    - Caso exista vamos analisar se o valor doado atual é maior que o valor. Caso seja maior atualizar o registro, caso contrario não efetuar nenhuma alteração\n",
    "    \n",
    "##### Obs.: Considerar que o arquivo sempre será uma extração full da origem, ou seja, sempre terá todos os dados que já foram processados e dados novos\n",
    "        \n",
    " "
   ]
  },
  {
   "cell_type": "code",
   "execution_count": null,
   "metadata": {},
   "outputs": [],
   "source": [
    "# Desenvolva a Resposta do item 6 Aqui\n",
    "import pandas as pd\n",
    "import pyodbc\n",
    "from sqlalchemy import create_engine, orm\n",
    "from urllib.parse import quote_plus\n",
    "\n",
    "# Connection Config\n",
    "server_name = \"myServer\"\n",
    "db_name = \"myDB\"\n",
    "conn = \"DRIVER={SQL Server Native Client 11.0};SERVER=\"+server_name+\";DATABASE=\"+db_name+\";Trusted_Connection=yes\"\n",
    "quoted = quote_plus(conn)\n",
    "new_con = \"mssql+pyodbc:///?odbc_connect={}\".format(quoted)\n",
    "engine = create_engine(new_con, fast_executemany=True)     \n",
    "\n",
    "rc = pd.read_csv(\"receitas_candidatos_2014_brasil_english.csv\", dtype={\"cat_donator_economic_sector\": object\n",
    "                                                                      ,\"cat_original_donator_economic_sector\": object})\n",
    "\n",
    "rc[\"dat_donation_date_time\"] = pd.to_datetime(rc[\"dat_donation_date_time\"],format = \"%d/%m/%Y%H:%M:%S\")\n",
    "rc[\"dat_donation_date\"] = pd.to_datetime(rc[\"dat_donation_date\"],format = \"%d/%m/%Y%H:%M:%S\")\n",
    "\n",
    "rc = rc.drop(columns=[\"Unnamed: 0\"], axis=1)\n",
    "\n",
    "rc.to_csv('receitas_candidatos_2014_brasil_english_clean.csv', index=False)\n",
    "\n",
    "#SQL Statements\n",
    "drop_table = \"DROP TABLE IF EXISTS dbo.TABELA_DOACOES_stg\"\n",
    "\n",
    "create_table = '''\n",
    "IF NOT EXISTS (select * from sysobjects where name='TABELA_DOACOES' and xtype='U')\n",
    "CREATE  TABLE  [dbo].[TABELA_DOACOES](\n",
    "    [id_election] [bigint] NULL,\n",
    "    [cat_election_description] [text] NULL,\n",
    "    [dat_donation_date_time] [datetime] NULL,\n",
    "    [id_accountant_cnpj] [bigint] NULL,\n",
    "    [id_candidate_seq] [bigint] NULL,\n",
    "    [cat_election_state] [text] NULL,\n",
    "    [cat_party] [text] NULL,\n",
    "    [id_candidate_num] [bigint] NULL,\n",
    "    [cat_political_office] [text] NULL,\n",
    "    [cat_candidate_name] [text] NULL,\n",
    "    [id_candidate_cpf] [bigint] NOT NULL,\n",
    "    [id_receipt_num] [text] NULL,\n",
    "    [id_document_num] [text] NULL,\n",
    "    [id_donator_cpf_cnpj] [float] NOT NULL,\n",
    "    [cat_donator_name] [text] NULL,\n",
    "    [cat_donator_name2] [text] NULL,\n",
    "    [cat_donator_state] [text] NULL,\n",
    "    [id_donator_party] [float] NULL,\n",
    "    [id_donator_number] [bigint] NULL,\n",
    "    [id_donator_economic_sector] [float] NULL,\n",
    "    [cat_donator_economic_sector] [text] NULL,\n",
    "    [dat_donation_date] [datetime] NOT NULL,\n",
    "    [num_donation_ammount] [float] NULL,\n",
    "    [cat_donation_type] [text] NULL,\n",
    "    [cat_donation_source] [text] NULL,\n",
    "    [cat_donation_method] [text] NULL,\n",
    "    [cat_donation_description] [text] NULL,\n",
    "    [id_original_donator_cpf_cnpj] [float] NULL,\n",
    "    [cat_original_donator_name] [text] NULL,\n",
    "    [cat_original_donator_type] [text] NULL,\n",
    "    [cat_original_donator_economic_sector] [text] NULL,\n",
    "    [cat_original_donator_name2] [text] NULL\n",
    " CONSTRAINT [PK_TABELA_DOACOES] PRIMARY KEY CLUSTERED \n",
    "(\n",
    "    [dat_donation_date] ASC,\n",
    "    [id_donator_cpf_cnpj] ASC,\n",
    "    [id_candidate_cpf] ASC\n",
    ")WITH (PAD_INDEX = OFF, STATISTICS_NORECOMPUTE = OFF, IGNORE_DUP_KEY = OFF, ALLOW_ROW_LOCKS = ON, ALLOW_PAGE_LOCKS = ON) ON [PRIMARY]\n",
    ") ON [PRIMARY]\n",
    "'''\n",
    "create_stg_table = pd.io.sql.get_schema(rc, \"TABELA_DOACOES_stg\", con=engine)\n",
    "create_stg_table = create_table.replace(\"[TABELA_DOACOES_stg]\", \"dbo.TABELA_DOACOES_stg\")\n",
    "\n",
    "bulk_insert = \"BULK INSERT dbo.TABELA_DOACOES_stg FROM 'receitas_candidatos_2014_brasil_english_clean.csv' WITH(FIRSTROW=2, ,ROWTERMINATOR = '\\n')\"\n",
    "\n",
    "merge_statement = '''\n",
    "MERGE [dbo].[TABELA_DOACOES] AS tgt \n",
    "USING (SELECT DISTINCT [id_election]\n",
    "      ,[cat_election_description]\n",
    "      ,[dat_donation_date_time]\n",
    "      ,[id_accountant_cnpj]\n",
    "      ,[id_candidate_seq]\n",
    "      ,[cat_election_state]\n",
    "      ,[cat_party]\n",
    "      ,[id_candidate_num]\n",
    "      ,[cat_political_office]\n",
    "      ,[cat_candidate_name]\n",
    "      ,[id_candidate_cpf]\n",
    "      ,[id_receipt_num]\n",
    "      ,[id_document_num]\n",
    "      ,[id_donator_cpf_cnpj]\n",
    "      ,[cat_donator_name]\n",
    "      ,[cat_donator_name2]\n",
    "      ,[cat_donator_state]\n",
    "      ,[id_donator_party]\n",
    "      ,[id_donator_number]\n",
    "      ,[id_donator_economic_sector]\n",
    "      ,[cat_donator_economic_sector]\n",
    "      ,[dat_donation_date]\n",
    "      ,MAX([num_donation_ammount]) OVER (PARTITION BY dat_donation_date, id_donator_cpf_cnpj, id_candidate_cpf) as [num_donation_ammount]\n",
    "      ,[cat_donation_type]\n",
    "      ,[cat_donation_source]\n",
    "      ,[cat_donation_method]\n",
    "      ,[cat_donation_description]\n",
    "      ,[id_original_donator_cpf_cnpj]\n",
    "      ,[cat_original_donator_name]\n",
    "      ,[cat_original_donator_type]\n",
    "      ,[cat_original_donator_economic_sector]\n",
    "      ,[cat_original_donator_name2]\n",
    "FROM [dbo].[TABELA_DOACOES_stg]) AS src\n",
    "ON (tgt.dat_donation_date = src.dat_donation_date AND\n",
    "    tgt.id_donator_cpf_cnpj = src.id_donator_cpf_cnpj AND\n",
    "\ttgt.id_candidate_cpf = src.id_candidate_cpf)\n",
    "WHEN MATCHED and tgt.num_donation_ammount > src.num_donation_ammount\n",
    "THEN UPDATE SET  tgt.[id_election] = src.[id_election]\n",
    "\t\t\t\t,tgt.[cat_election_description] = src.[cat_election_description] \n",
    "\t\t\t\t,tgt.[id_accountant_cnpj] = src.[id_accountant_cnpj]\n",
    "\t\t\t\t,tgt.[id_candidate_seq] = src.[id_candidate_seq]\n",
    "\t\t\t\t,tgt.[cat_election_state] = src.[cat_election_state]\n",
    "\t\t\t\t,tgt.[cat_party] = src.[cat_party]\n",
    "\t\t\t\t,tgt.[id_candidate_num] = src.[id_candidate_num]\n",
    "\t\t\t\t,tgt.[cat_political_office] = src.[cat_political_office]\n",
    "\t\t\t\t,tgt.[cat_candidate_name] = src.[cat_candidate_name]\n",
    "\t\t\t\t,tgt.[id_receipt_num] = src.[id_receipt_num]\n",
    "\t\t\t\t,tgt.[id_document_num] = src.[id_document_num]\n",
    "\t\t\t\t,tgt.[cat_donator_name] = src.[cat_donator_name]\n",
    "\t\t\t\t,tgt.[cat_donator_name2] = src.[cat_donator_name2]\n",
    "\t\t\t\t,tgt.[cat_donator_state] = src.[cat_donator_state]\n",
    "\t\t\t\t,tgt.[id_donator_party] = src.[id_donator_party]\n",
    "\t\t\t\t,tgt.[id_donator_number] = src.[id_donator_number]\n",
    "\t\t\t\t,tgt.[id_donator_economic_sector] = src.[id_donator_economic_sector]\n",
    "\t\t\t\t,tgt.[cat_donator_economic_sector] = src.[cat_donator_economic_sector]\n",
    "\t\t\t\t,tgt.[dat_donation_date] = src.[dat_donation_date]\n",
    "\t\t\t\t,tgt.[num_donation_ammount] = src.[num_donation_ammount]\n",
    "\t\t\t\t,tgt.[cat_donation_type] = src.[cat_donation_type]\n",
    "\t\t\t\t,tgt.[cat_donation_source] = src.[cat_donation_source]\n",
    "\t\t\t\t,tgt.[cat_donation_method] = src.[cat_donation_method]\n",
    "\t\t\t\t,tgt.[cat_donation_description] = src.[cat_donation_description]\n",
    "\t\t\t\t,tgt.[id_original_donator_cpf_cnpj] = src.[id_original_donator_cpf_cnpj]\n",
    "\t\t\t\t,tgt.[cat_original_donator_name] = src.[cat_original_donator_name]\n",
    "\t\t\t\t,tgt.[cat_original_donator_type] = src.[cat_original_donator_type]\n",
    "\t\t\t\t,tgt.[cat_original_donator_economic_sector] = src.[cat_original_donator_economic_sector]\n",
    "\t\t\t\t,tgt.[cat_original_donator_name2] = src.[cat_original_donator_name2]\n",
    "WHEN NOT MATCHED \n",
    "THEN INSERT ([id_election]\n",
    "\t\t\t,[cat_election_description]\n",
    "\t\t\t,[dat_donation_date_time]\n",
    "\t\t\t,[id_accountant_cnpj]\n",
    "\t\t\t,[id_candidate_seq]\n",
    "\t\t\t,[cat_election_state]\n",
    "\t\t\t,[cat_party]\n",
    "\t\t\t,[id_candidate_num]\n",
    "\t\t\t,[cat_political_office]\n",
    "\t\t\t,[cat_candidate_name]\n",
    "\t\t\t,[id_candidate_cpf]\n",
    "\t\t\t,[id_receipt_num]\n",
    "\t\t\t,[id_document_num]\n",
    "\t\t\t,[id_donator_cpf_cnpj]\n",
    "\t\t\t,[cat_donator_name]\n",
    "\t\t\t,[cat_donator_name2]\n",
    "\t\t\t,[cat_donator_state]\n",
    "\t\t\t,[id_donator_party]\n",
    "\t\t\t,[id_donator_number]\n",
    "\t\t\t,[id_donator_economic_sector]\n",
    "\t\t\t,[cat_donator_economic_sector]\n",
    "\t\t\t,[dat_donation_date]\n",
    "\t\t\t,[num_donation_ammount]\n",
    "\t\t\t,[cat_donation_type]\n",
    "\t\t\t,[cat_donation_source]\n",
    "\t\t\t,[cat_donation_method]\n",
    "\t\t\t,[cat_donation_description]\n",
    "\t\t\t,[id_original_donator_cpf_cnpj]\n",
    "\t\t\t,[cat_original_donator_name]\n",
    "\t\t\t,[cat_original_donator_type]\n",
    "\t\t\t,[cat_original_donator_economic_sector]\n",
    "\t\t\t,[cat_original_donator_name2])\n",
    "VALUES( src.[id_election]\n",
    "      ,src.[cat_election_description]\n",
    "      ,src.[dat_donation_date_time]\n",
    "      ,src.[id_accountant_cnpj]\n",
    "      ,src.[id_candidate_seq]\n",
    "      ,src.[cat_election_state]\n",
    "      ,src.[cat_party]\n",
    "      ,src.[id_candidate_num]\n",
    "      ,src.[cat_political_office]\n",
    "      ,src.[cat_candidate_name]\n",
    "      ,src.[id_candidate_cpf]\n",
    "      ,src.[id_receipt_num]\n",
    "      ,src.[id_document_num]\n",
    "      ,src.[id_donator_cpf_cnpj]\n",
    "      ,src.[cat_donator_name]\n",
    "      ,src.[cat_donator_name2]\n",
    "      ,src.[cat_donator_state]\n",
    "      ,src.[id_donator_party]\n",
    "      ,src.[id_donator_number]\n",
    "      ,src.[id_donator_economic_sector]\n",
    "      ,src.[cat_donator_economic_sector]\n",
    "      ,src.[dat_donation_date]\n",
    "      ,src.[num_donation_ammount]\n",
    "      ,src.[cat_donation_type]\n",
    "      ,src.[cat_donation_source]\n",
    "      ,src.[cat_donation_method]\n",
    "      ,src.[cat_donation_description]\n",
    "      ,src.[id_original_donator_cpf_cnpj]\n",
    "      ,src.[cat_original_donator_name]\n",
    "      ,src.[cat_original_donator_type]\n",
    "      ,src.[cat_original_donator_economic_sector]\n",
    "      ,src.[cat_original_donator_name2]);\n",
    "'''\n",
    "#\n",
    "\n",
    "Session = orm.sessionmaker(bind=engine)\n",
    "session = Session()\n",
    "session.execute(drop_table)\n",
    "session.commit()\n",
    "session.execute(create_stg_table)\n",
    "session.commit()\n",
    "session.execute(create_table)\n",
    "session.commit()\n",
    "session.execute(bulk_insert)\n",
    "session.commit()\n",
    "session.execute(merge_statement)\n",
    "session.close()"
   ]
  },
  {
   "cell_type": "code",
   "execution_count": null,
   "metadata": {
    "collapsed": true
   },
   "outputs": [],
   "source": [
    "#TENTATIVA\n",
    "def dataType(val, current_type):\n",
    "    try:\n",
    "        # Evaluates numbers to an appropriate type, and strings an error\n",
    "        t = ast.literal_eval(val)\n",
    "    except ValueError:\n",
    "        return 'nvarchar'\n",
    "    except SyntaxError:\n",
    "        return 'nvarchar'\n",
    "    if type(t) in [int, float]:\n",
    "        if (type(t) in [int]) and current_type not in ['float', 'nvarchar']:\n",
    "           # Use smallest possible int type\n",
    "            if (-32768 < t < 32767) and current_type not in ['int', 'bigint']:\n",
    "                return 'smallint'\n",
    "            elif (-2147483648 < t < 2147483647) and current_type not in ['bigint']:\n",
    "                return 'int'\n",
    "            else:\n",
    "                return 'bigint'\n",
    "        if type(t) is float and current_type not in ['nvarchar']:\n",
    "            return 'decimal'\n",
    "    else:\n",
    "        return 'nvarchar'"
   ]
  },
  {
   "cell_type": "code",
   "execution_count": null,
   "metadata": {},
   "outputs": [],
   "source": [
    "#TENTATIVA\n",
    "for row in reader:\n",
    "    if len(headers) == 0:\n",
    "        headers = row\n",
    "        for col in row:\n",
    "            longest.append(0)\n",
    "            type_list.append('')\n",
    "    else:\n",
    "        for i in range(len(row)):\n",
    "            # NA is the csv null value\n",
    "            if type_list[i] == 'nvarchar' or row[i] == 'NA':\n",
    "                pass\n",
    "            else:\n",
    "                var_type = dataType(row[i], type_list[i])\n",
    "                type_list[i] = var_type\n",
    "        if len(row[i]) > longest[i]:\n",
    "            longest[i] = len(row[i])\n",
    "\n",
    "type_list     \n",
    "longest"
   ]
  },
  {
   "cell_type": "code",
   "execution_count": null,
   "metadata": {
    "collapsed": true
   },
   "outputs": [],
   "source": [
    "#TENTATIVA\n",
    "file.close()\n",
    "statement = 'create table TABELA_DOACOES_stg ('\n",
    "\n",
    "for i in range(len(headers)):\n",
    "    if type_list[i] == 'nvarchar':\n",
    "        statement = (statement + ' {} nvarchar({}),').format(headers[i].lower(), str(longest[i]))\n",
    "    else:\n",
    "        statement = (statement + ' ' + '{} {}' + ',').format(headers[i].lower(), type_list[i])\n",
    "\n",
    "statement = statement[:-1] + ');'\n",
    "\n",
    "statement"
   ]
  },
  {
   "cell_type": "markdown",
   "metadata": {},
   "source": [
    "### TESTE SQL ###\n",
    "\n",
    "1. Utilize um banco de dados(SQL) de sua preferencia.\n",
    "\n",
    "2. De Preferencia utilize a tabela criada no item anterior, caso não tenha a tabela faça uma carga do arquivo receitas_candidatos_2014_brasil_english.csv em uma tabela chamada TABELA_DOACOES. Se seu banco de dados tiver limite de espaço, adapte a quantidade de linhas para inserir na tabela. Vamos analisar as instruções SQL.\n",
    "    \n",
    "\n",
    "#### Obs.: Somente cole a instrução SQL nas celulas.\n"
   ]
  },
  {
   "cell_type": "markdown",
   "metadata": {},
   "source": [
    "### 7. Crie uma query que responda:\n",
    "\n",
    "#### Quais são os 10 candidatos que receberam mais doações\n",
    "        \n",
    " "
   ]
  },
  {
   "cell_type": "code",
   "execution_count": null,
   "metadata": {
    "collapsed": true
   },
   "outputs": [],
   "source": [
    "# Cole a instrução SQL aqui\n",
    "SELECT TOP (10) cat_candidate_name\n",
    "               ,SUM(num_donation_ammount) as donation_amount\n",
    "FROM TABELA_DOACOES\n",
    "ORDER BY 2 desc"
   ]
  },
  {
   "cell_type": "markdown",
   "metadata": {},
   "source": [
    "### 8. Crie uma query que responda:\n",
    "\n",
    "#### Para o posto(cat_political_office) de \"Deputado Federal\" qual o valor que cada candidato recebeu, o valor médio de doções e a relação entre os dois, ordene pelos candidatos com mais doações relativas.\n",
    " "
   ]
  },
  {
   "cell_type": "code",
   "execution_count": null,
   "metadata": {
    "collapsed": true
   },
   "outputs": [],
   "source": [
    "# Cole a instrução SQL aqui\n",
    "SELECT cat_candidate_name\n",
    "      ,SUM(num_donation_ammount) as num_donation_ammount_sum\n",
    "      ,AVG(num_donation_ammount) as num_donation_ammount_avg\n",
    "      ,SUM(num_donation_ammount)/AVG(num_donation_ammount) as num_donation_ammount_ratio\n",
    "FROM TABELA_DOACOES\n",
    "WHERE cat_political_office IN ('Deputado Federal')\n",
    "GROUP BY cat_candidate_name\n",
    "ORDER BY 4 desc"
   ]
  },
  {
   "cell_type": "markdown",
   "metadata": {},
   "source": [
    "### 9. Crie uma query que responda:\n",
    "\n",
    "#### Liste todos os candidatos, o seu valor recebido em doação, o valor médio de doações pelo posto correspondente ao do candidato e a relação entre o Recebido pelo candidato e a média do posto concorrido.\n",
    " "
   ]
  },
  {
   "cell_type": "code",
   "execution_count": null,
   "metadata": {
    "collapsed": true
   },
   "outputs": [],
   "source": [
    "# Cole a instrução SQL aqui\n",
    "WITH stg AS (SELECT cat_candidate_name\n",
    "      ,SUM(num_donation_ammount) as num_donation_ammount_total\n",
    "      ,AVG(num_donation_ammount) OVER (PARTITION BY cat_political_office) as num_donation_ammount_by_office\n",
    "FROM TABELA_DOACOES\n",
    "GROUP BY cat_candidate_name)\n",
    "\n",
    "SELECT cat_candidate_name\n",
    "      ,num_donation_ammount_total\n",
    "      ,num_donation_ammount_by_office\n",
    "      ,(num_donation_ammount_total/num_donation_ammount_by_office) as num_donation_ammount_total_office_ratio\n",
    "FROM stg"
   ]
  },
  {
   "cell_type": "markdown",
   "metadata": {},
   "source": [
    "### 10. Crie uma query que responda:\n",
    "\n",
    "#### Crie uma tabela com base no resultado anterior, filtrando somente candidatos que receberam mais do que 0,1% da média total do seu posto.\n",
    " "
   ]
  },
  {
   "cell_type": "code",
   "execution_count": null,
   "metadata": {
    "collapsed": true
   },
   "outputs": [],
   "source": [
    "# Cole a instrução SQL aqui\n",
    "WITH stg AS (SELECT cat_candidate_name\n",
    "      ,SUM(num_donation_ammount) as num_donation_ammount_total\n",
    "      ,AVG(num_donation_ammount) OVER (PARTITION BY cat_political_office) as num_donation_ammount_by_office\n",
    "FROM TABELA_DOACOES\n",
    "GROUP BY cat_candidate_name)\n",
    "\n",
    "SELECT cat_candidate_name\n",
    "      ,num_donation_ammount_total\n",
    "      ,num_donation_ammount_by_office\n",
    "      ,(num_donation_ammount_total/num_donation_ammount_by_office) as num_donation_ammount_total_office_ratio\n",
    "INTO TABELA_DOACOES_01pct\n",
    "FROM stg\n",
    "WHERE (num_donation_ammount_total/num_donation_ammount_by_office)*100 > 0.1"
   ]
  }
 ],
 "metadata": {
  "kernelspec": {
   "display_name": "Python 3",
   "language": "python",
   "name": "python3"
  },
  "language_info": {
   "codemirror_mode": {
    "name": "ipython",
    "version": 3
   },
   "file_extension": ".py",
   "mimetype": "text/x-python",
   "name": "python",
   "nbconvert_exporter": "python",
   "pygments_lexer": "ipython3",
   "version": "3.7.3"
  }
 },
 "nbformat": 4,
 "nbformat_minor": 2
}
